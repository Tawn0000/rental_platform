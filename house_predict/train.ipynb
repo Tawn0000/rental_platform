{
 "cells": [
  {
   "cell_type": "code",
   "execution_count": 4,
   "metadata": {},
   "outputs": [],
   "source": [
    "import numpy as np\n",
    "import pandas as pd\n",
    "import json\n",
    "\n",
    "\n",
    "from sklearn.model_selection import train_test_split\n",
    "from sklearn.preprocessing import StandardScaler\n",
    "from sklearn.externals import joblib\n",
    "from sklearn.linear_model import LinearRegression\n",
    "from sklearn.neighbors import KNeighborsRegressor\n",
    "from sklearn.svm import SVR\n",
    "from sklearn.linear_model import Lasso\n",
    "from sklearn.linear_model import Ridge\n",
    "from sklearn.neural_network import MLPRegressor\n",
    "from sklearn.tree import DecisionTreeRegressor\n",
    "from sklearn.tree import ExtraTreeRegressor\n",
    "from xgboost import XGBRegressor\n",
    "from sklearn.ensemble import RandomForestRegressor\n",
    "from sklearn.ensemble import AdaBoostRegressor\n",
    "from sklearn.ensemble import GradientBoostingRegressor\n",
    "from sklearn.ensemble import BaggingRegressor\n",
    "models=[LinearRegression(),KNeighborsRegressor(),SVR(),Ridge(),Lasso(),MLPRegressor(alpha=20,max_iter=10000),DecisionTreeRegressor(),ExtraTreeRegressor(),XGBRegressor(),RandomForestRegressor(),AdaBoostRegressor(),GradientBoostingRegressor(),BaggingRegressor()]\n",
    "models_str=['LinearRegression','KNNRegressor','SVR','Ridge','Lasso','MLPRegressor','DecisionTree','ExtraTree','XGBoost','RandomForest','AdaBoost','GradientBoost','Bagging']\n",
    "score_list=[]\n",
    "\n",
    "\n",
    "\n",
    "pd.set_option('display.max_columns',100) #a就是你要设置显示的最大列数参数\n",
    "pd.set_option('display.max_rows',100) #b就是你要设置显示的最大的行数参数\n",
    "# pd.set_option('display.width',x) #x就是你要设置的显示的宽度，防止轻易换行\n",
    "\n",
    "\n",
    "# 读取数据\n",
    "train_data = pd.read_csv('./data/train.csv', header=0)\n",
    "# validate_data = pd.read_csv('./data/validate.csv', header=0)\n",
    "test_data = pd.read_csv('./data/test.csv', header=0)\n",
    "\n",
    "train_data_x = train_data.loc[:,train_data.columns!='price']\n",
    "train_data_y = train_data.loc[:,train_data.columns=='price']\n",
    "\n",
    "# validate_data_x = validate_data.loc[:,validate_data.columns!='price']\n",
    "# validate_data_y = validate_data.loc[:,validate_data.columns=='price']\n",
    "\n",
    "test_data_x = test_data.loc[:,test_data.columns!='price']\n",
    "test_data_y = test_data.loc[:,test_data.columns=='price']\n",
    "\n",
    "train_data_x = train_data_x.drop('Unnamed: 0', axis=1)\n",
    "# validate_data_x = validate_data_x.drop('Unnamed: 0', axis=1)\n",
    "test_data_x = test_data_x.drop('Unnamed: 0', axis=1)\n",
    "\n"
   ]
  },
  {
   "cell_type": "code",
   "execution_count": 11,
   "metadata": {},
   "outputs": [
    {
     "name": "stdout",
     "output_type": "stream",
     "text": [
      "开始训练模型：LinearRegression\n"
     ]
    },
    {
     "name": "stderr",
     "output_type": "stream",
     "text": [
      "/Users/tawn/.pyenv/versions/3.6.8/lib/python3.6/site-packages/sklearn/model_selection/_split.py:667: UserWarning: The least populated class in y has only 1 members, which is less than n_splits=10.\n",
      "  % (min_groups, self.n_splits)), UserWarning)\n"
     ]
    },
    {
     "name": "stdout",
     "output_type": "stream",
     "text": [
      "Fold: 1, Acc: 0.444\n",
      "Fold: 2, Acc: 0.493\n",
      "Fold: 3, Acc: 0.572\n",
      "Fold: 4, Acc: 0.547\n",
      "Fold: 5, Acc: 0.447\n",
      "Fold: 6, Acc: 0.562\n",
      "Fold: 7, Acc: 0.467\n",
      "Fold: 8, Acc: 0.480\n",
      "Fold: 9, Acc: 0.419\n",
      "Fold: 10, Acc: 0.571\n",
      "accuracy: 0.500 +/- 0.055\n",
      "开始训练模型：KNNRegressor\n"
     ]
    },
    {
     "name": "stderr",
     "output_type": "stream",
     "text": [
      "/Users/tawn/.pyenv/versions/3.6.8/lib/python3.6/site-packages/sklearn/model_selection/_split.py:667: UserWarning: The least populated class in y has only 1 members, which is less than n_splits=10.\n",
      "  % (min_groups, self.n_splits)), UserWarning)\n"
     ]
    },
    {
     "name": "stdout",
     "output_type": "stream",
     "text": [
      "Fold: 1, Acc: 0.749\n",
      "Fold: 2, Acc: 0.633\n",
      "Fold: 3, Acc: 0.771\n",
      "Fold: 4, Acc: 0.655\n",
      "Fold: 5, Acc: 0.734\n",
      "Fold: 6, Acc: 0.754\n",
      "Fold: 7, Acc: 0.696\n",
      "Fold: 8, Acc: 0.686\n",
      "Fold: 9, Acc: 0.705\n",
      "Fold: 10, Acc: 0.748\n",
      "accuracy: 0.713 +/- 0.044\n",
      "开始训练模型：SVR\n"
     ]
    },
    {
     "name": "stderr",
     "output_type": "stream",
     "text": [
      "/Users/tawn/.pyenv/versions/3.6.8/lib/python3.6/site-packages/sklearn/model_selection/_split.py:667: UserWarning: The least populated class in y has only 1 members, which is less than n_splits=10.\n",
      "  % (min_groups, self.n_splits)), UserWarning)\n"
     ]
    },
    {
     "name": "stdout",
     "output_type": "stream",
     "text": [
      "Fold: 1, Acc: -0.023\n",
      "Fold: 2, Acc: -0.034\n",
      "Fold: 3, Acc: -0.036\n",
      "Fold: 4, Acc: -0.034\n",
      "Fold: 5, Acc: -0.035\n",
      "Fold: 6, Acc: -0.037\n",
      "Fold: 7, Acc: -0.036\n",
      "Fold: 8, Acc: -0.030\n",
      "Fold: 9, Acc: -0.029\n",
      "Fold: 10, Acc: -0.030\n",
      "accuracy: -0.032 +/- 0.004\n",
      "开始训练模型：Ridge\n"
     ]
    },
    {
     "name": "stderr",
     "output_type": "stream",
     "text": [
      "/Users/tawn/.pyenv/versions/3.6.8/lib/python3.6/site-packages/sklearn/model_selection/_split.py:667: UserWarning: The least populated class in y has only 1 members, which is less than n_splits=10.\n",
      "  % (min_groups, self.n_splits)), UserWarning)\n"
     ]
    },
    {
     "name": "stdout",
     "output_type": "stream",
     "text": [
      "Fold: 1, Acc: 0.444\n",
      "Fold: 2, Acc: 0.493\n",
      "Fold: 3, Acc: 0.572\n",
      "Fold: 4, Acc: 0.547\n",
      "Fold: 5, Acc: 0.447\n",
      "Fold: 6, Acc: 0.562\n",
      "Fold: 7, Acc: 0.467\n",
      "Fold: 8, Acc: 0.480\n",
      "Fold: 9, Acc: 0.419\n",
      "Fold: 10, Acc: 0.571\n",
      "accuracy: 0.500 +/- 0.055\n",
      "开始训练模型：Lasso\n"
     ]
    },
    {
     "name": "stderr",
     "output_type": "stream",
     "text": [
      "/Users/tawn/.pyenv/versions/3.6.8/lib/python3.6/site-packages/sklearn/model_selection/_split.py:667: UserWarning: The least populated class in y has only 1 members, which is less than n_splits=10.\n",
      "  % (min_groups, self.n_splits)), UserWarning)\n"
     ]
    },
    {
     "name": "stdout",
     "output_type": "stream",
     "text": [
      "Fold: 1, Acc: 0.443\n",
      "Fold: 2, Acc: 0.494\n",
      "Fold: 3, Acc: 0.573\n",
      "Fold: 4, Acc: 0.547\n",
      "Fold: 5, Acc: 0.446\n",
      "Fold: 6, Acc: 0.562\n",
      "Fold: 7, Acc: 0.467\n",
      "Fold: 8, Acc: 0.480\n",
      "Fold: 9, Acc: 0.419\n",
      "Fold: 10, Acc: 0.571\n",
      "accuracy: 0.500 +/- 0.055\n",
      "开始训练模型：MLPRegressor\n"
     ]
    },
    {
     "name": "stderr",
     "output_type": "stream",
     "text": [
      "/Users/tawn/.pyenv/versions/3.6.8/lib/python3.6/site-packages/sklearn/model_selection/_split.py:667: UserWarning: The least populated class in y has only 1 members, which is less than n_splits=10.\n",
      "  % (min_groups, self.n_splits)), UserWarning)\n"
     ]
    },
    {
     "name": "stdout",
     "output_type": "stream",
     "text": [
      "Fold: 1, Acc: 0.626\n",
      "Fold: 2, Acc: 0.679\n",
      "Fold: 3, Acc: 0.768\n",
      "Fold: 4, Acc: 0.750\n",
      "Fold: 5, Acc: 0.688\n",
      "Fold: 6, Acc: 0.740\n",
      "Fold: 7, Acc: 0.768\n",
      "Fold: 8, Acc: 0.754\n",
      "Fold: 9, Acc: 0.570\n",
      "Fold: 10, Acc: 0.819\n",
      "accuracy: 0.716 +/- 0.071\n",
      "开始训练模型：DecisionTree\n"
     ]
    },
    {
     "name": "stderr",
     "output_type": "stream",
     "text": [
      "/Users/tawn/.pyenv/versions/3.6.8/lib/python3.6/site-packages/sklearn/model_selection/_split.py:667: UserWarning: The least populated class in y has only 1 members, which is less than n_splits=10.\n",
      "  % (min_groups, self.n_splits)), UserWarning)\n"
     ]
    },
    {
     "name": "stdout",
     "output_type": "stream",
     "text": [
      "Fold: 1, Acc: 0.589\n",
      "Fold: 2, Acc: 0.244\n",
      "Fold: 3, Acc: 0.683\n",
      "Fold: 4, Acc: 0.672\n",
      "Fold: 5, Acc: 0.709\n",
      "Fold: 6, Acc: 0.748\n",
      "Fold: 7, Acc: 0.584\n",
      "Fold: 8, Acc: 0.600\n",
      "Fold: 9, Acc: 0.567\n",
      "Fold: 10, Acc: 0.720\n",
      "accuracy: 0.612 +/- 0.137\n",
      "开始训练模型：ExtraTree\n"
     ]
    },
    {
     "name": "stderr",
     "output_type": "stream",
     "text": [
      "/Users/tawn/.pyenv/versions/3.6.8/lib/python3.6/site-packages/sklearn/model_selection/_split.py:667: UserWarning: The least populated class in y has only 1 members, which is less than n_splits=10.\n",
      "  % (min_groups, self.n_splits)), UserWarning)\n"
     ]
    },
    {
     "name": "stdout",
     "output_type": "stream",
     "text": [
      "Fold: 1, Acc: 0.688\n",
      "Fold: 2, Acc: 0.520\n",
      "Fold: 3, Acc: 0.606\n",
      "Fold: 4, Acc: 0.748\n",
      "Fold: 5, Acc: 0.647\n",
      "Fold: 6, Acc: 0.760\n",
      "Fold: 7, Acc: 0.665\n",
      "Fold: 8, Acc: 0.526\n",
      "Fold: 9, Acc: 0.588\n",
      "Fold: 10, Acc: 0.780\n",
      "accuracy: 0.653 +/- 0.088\n",
      "开始训练模型：XGBoost\n"
     ]
    },
    {
     "name": "stderr",
     "output_type": "stream",
     "text": [
      "/Users/tawn/.pyenv/versions/3.6.8/lib/python3.6/site-packages/sklearn/model_selection/_split.py:667: UserWarning: The least populated class in y has only 1 members, which is less than n_splits=10.\n",
      "  % (min_groups, self.n_splits)), UserWarning)\n"
     ]
    },
    {
     "name": "stdout",
     "output_type": "stream",
     "text": [
      "Fold: 1, Acc: 0.675\n",
      "Fold: 2, Acc: 0.695\n",
      "Fold: 3, Acc: 0.855\n",
      "Fold: 4, Acc: 0.830\n",
      "Fold: 5, Acc: 0.829\n",
      "Fold: 6, Acc: 0.845\n",
      "Fold: 7, Acc: 0.833\n",
      "Fold: 8, Acc: 0.770\n",
      "Fold: 9, Acc: 0.685\n",
      "Fold: 10, Acc: 0.839\n",
      "accuracy: 0.786 +/- 0.069\n",
      "开始训练模型：RandomForest\n"
     ]
    },
    {
     "name": "stderr",
     "output_type": "stream",
     "text": [
      "/Users/tawn/.pyenv/versions/3.6.8/lib/python3.6/site-packages/sklearn/model_selection/_split.py:667: UserWarning: The least populated class in y has only 1 members, which is less than n_splits=10.\n",
      "  % (min_groups, self.n_splits)), UserWarning)\n"
     ]
    },
    {
     "name": "stdout",
     "output_type": "stream",
     "text": [
      "Fold: 1, Acc: 0.699\n",
      "Fold: 2, Acc: 0.687\n",
      "Fold: 3, Acc: 0.835\n",
      "Fold: 4, Acc: 0.817\n",
      "Fold: 5, Acc: 0.824\n",
      "Fold: 6, Acc: 0.840\n",
      "Fold: 7, Acc: 0.852\n",
      "Fold: 8, Acc: 0.801\n",
      "Fold: 9, Acc: 0.661\n",
      "Fold: 10, Acc: 0.852\n",
      "accuracy: 0.787 +/- 0.070\n",
      "开始训练模型：AdaBoost\n"
     ]
    },
    {
     "name": "stderr",
     "output_type": "stream",
     "text": [
      "/Users/tawn/.pyenv/versions/3.6.8/lib/python3.6/site-packages/sklearn/model_selection/_split.py:667: UserWarning: The least populated class in y has only 1 members, which is less than n_splits=10.\n",
      "  % (min_groups, self.n_splits)), UserWarning)\n"
     ]
    },
    {
     "name": "stdout",
     "output_type": "stream",
     "text": [
      "Fold: 1, Acc: 0.369\n",
      "Fold: 2, Acc: 0.367\n",
      "Fold: 3, Acc: -2.288\n",
      "Fold: 4, Acc: -0.203\n",
      "Fold: 5, Acc: 0.088\n",
      "Fold: 6, Acc: 0.199\n",
      "Fold: 7, Acc: -0.863\n",
      "Fold: 8, Acc: 0.428\n",
      "Fold: 9, Acc: -0.371\n",
      "Fold: 10, Acc: -0.341\n",
      "accuracy: -0.261 +/- 0.781\n",
      "开始训练模型：GradientBoost\n"
     ]
    },
    {
     "name": "stderr",
     "output_type": "stream",
     "text": [
      "/Users/tawn/.pyenv/versions/3.6.8/lib/python3.6/site-packages/sklearn/model_selection/_split.py:667: UserWarning: The least populated class in y has only 1 members, which is less than n_splits=10.\n",
      "  % (min_groups, self.n_splits)), UserWarning)\n"
     ]
    },
    {
     "name": "stdout",
     "output_type": "stream",
     "text": [
      "Fold: 1, Acc: 0.657\n",
      "Fold: 2, Acc: 0.672\n",
      "Fold: 3, Acc: 0.797\n",
      "Fold: 4, Acc: 0.712\n",
      "Fold: 5, Acc: 0.756\n",
      "Fold: 6, Acc: 0.788\n",
      "Fold: 7, Acc: 0.772\n",
      "Fold: 8, Acc: 0.734\n",
      "Fold: 9, Acc: 0.624\n",
      "Fold: 10, Acc: 0.797\n",
      "accuracy: 0.731 +/- 0.059\n",
      "开始训练模型：Bagging\n"
     ]
    },
    {
     "name": "stderr",
     "output_type": "stream",
     "text": [
      "/Users/tawn/.pyenv/versions/3.6.8/lib/python3.6/site-packages/sklearn/model_selection/_split.py:667: UserWarning: The least populated class in y has only 1 members, which is less than n_splits=10.\n",
      "  % (min_groups, self.n_splits)), UserWarning)\n"
     ]
    },
    {
     "name": "stdout",
     "output_type": "stream",
     "text": [
      "Fold: 1, Acc: 0.662\n",
      "Fold: 2, Acc: 0.670\n",
      "Fold: 3, Acc: 0.839\n",
      "Fold: 4, Acc: 0.814\n",
      "Fold: 5, Acc: 0.792\n",
      "Fold: 6, Acc: 0.812\n",
      "Fold: 7, Acc: 0.834\n",
      "Fold: 8, Acc: 0.770\n",
      "Fold: 9, Acc: 0.650\n",
      "Fold: 10, Acc: 0.832\n",
      "accuracy: 0.767 +/- 0.073\n"
     ]
    }
   ],
   "source": [
    "from sklearn.model_selection import StratifiedKFold\n",
    "from tqdm import tqdm\n",
    "\n",
    "results = {}\n",
    "for i in range(len(models_str)):\n",
    "    name = models_str[i]\n",
    "    print('开始训练模型：'+ name)\n",
    "    model=models[i]   #建立模型\n",
    "\n",
    "    kfold = StratifiedKFold(n_splits=10, shuffle=True, random_state=1)\n",
    "\n",
    "    scores = []\n",
    "    for k, (train, validate) in enumerate(kfold.split(train_data_x, train_data_y)):\n",
    "        model.fit(train_data_x.iloc[train], train_data_y.iloc[train].values.ravel())\n",
    "        score=model.score(train_data_x.iloc[validate], train_data_y.iloc[validate].values.ravel())\n",
    "        scores.append(score)\n",
    "        print('Fold: %s, Acc: %.3f' % (k+1, score))\n",
    "\n",
    "    print('accuracy: %.3f +/- %.3f' % (np.mean(scores), np.std(scores)))\n",
    "    results[name] = str(np.mean(scores))\n",
    "    "
   ]
  },
  {
   "cell_type": "code",
   "execution_count": 12,
   "metadata": {},
   "outputs": [
    {
     "name": "stdout",
     "output_type": "stream",
     "text": [
      "LinearRegression   0.5000774342872634\n",
      "KNNRegressor   0.7130136214482864\n",
      "SVR   -0.032465460706494656\n",
      "Ridge   0.5001331548344361\n",
      "Lasso   0.500134138406386\n",
      "MLPRegressor   0.7162003805212482\n",
      "DecisionTree   0.6115682189186955\n",
      "ExtraTree   0.6527892029816676\n",
      "XGBoost   0.7855684042170183\n",
      "RandomForest   0.7867078442245934\n",
      "AdaBoost   -0.2613991177558764\n",
      "GradientBoost   0.7309340582249302\n",
      "Bagging   0.7673967421055218\n"
     ]
    }
   ],
   "source": [
    "for (k,v) in results.items():\n",
    "    print(k, ' ' ,v)"
   ]
  },
  {
   "cell_type": "code",
   "execution_count": 17,
   "metadata": {},
   "outputs": [
    {
     "name": "stdout",
     "output_type": "stream",
     "text": [
      "LinearRegression 得分:0.5295845589008399\n"
     ]
    }
   ],
   "source": [
    "i = 0\n",
    "# 2,\n",
    "# name = models_str[i]\n",
    "# print('开始训练模型：'+ name)\n",
    "# model=models[i]   #建立模型\n",
    "# model.fit(train_data_x, train_data_y.values.ravel())\n",
    "# pred_y=model.predict(validate_data_x)  \n",
    "# score=model.score(validate_data_x, validate_data_y.values.ravel())\n",
    "# # score_.append(str(score)[:5])\n",
    "# print(name +' 得分:'+str(score))\n",
    "# # 保存模型\n",
    "# print('开始保存模型：'+ name)\n",
    "save_path_name= 'model/' + name +\"_train_model.m\"\n",
    "# joblib.dump(model, save_path_name)\n",
    "model = joblib.load(save_path_name)\n",
    "# score=model.score(validate_data_x, validate_data_y.values.ravel())\n",
    "# print(name +' 得分:'+str(score))"
   ]
  },
  {
   "cell_type": "code",
   "execution_count": 6,
   "metadata": {},
   "outputs": [
    {
     "name": "stdout",
     "output_type": "stream",
     "text": [
      "开始训练模型：LinearRegression\n",
      "LinearRegression 得分:0.5144757604123515\n",
      "开始保存模型：LinearRegression\n",
      "开始训练模型：KNNRegressor\n",
      "KNNRegressor 得分:0.6912794039900696\n",
      "开始保存模型：KNNRegressor\n",
      "开始训练模型：SVR\n",
      "SVR 得分:-0.028121382382010122\n",
      "开始保存模型：SVR\n",
      "开始训练模型：Ridge\n",
      "Ridge 得分:0.5147408597806838\n",
      "开始保存模型：Ridge\n",
      "开始训练模型：Lasso\n",
      "Lasso 得分:0.5151348136358676\n",
      "开始保存模型：Lasso\n",
      "开始训练模型：MLPRegressor\n",
      "MLPRegressor 得分:0.7602410037147792\n",
      "开始保存模型：MLPRegressor\n",
      "开始训练模型：DecisionTree\n",
      "DecisionTree 得分:0.6671233317812091\n",
      "开始保存模型：DecisionTree\n",
      "开始训练模型：ExtraTree\n",
      "ExtraTree 得分:0.43854523114060195\n",
      "开始保存模型：ExtraTree\n",
      "开始训练模型：XGBoost\n",
      "XGBoost 得分:0.8007191125153706\n",
      "开始保存模型：XGBoost\n",
      "开始训练模型：RandomForest\n",
      "RandomForest 得分:0.8138367497741859\n",
      "开始保存模型：RandomForest\n",
      "开始训练模型：AdaBoost\n",
      "AdaBoost 得分:-0.3170494078335513\n",
      "开始保存模型：AdaBoost\n",
      "开始训练模型：GradientBoost\n",
      "GradientBoost 得分:0.735217824779113\n",
      "开始保存模型：GradientBoost\n",
      "开始训练模型：Bagging\n",
      "Bagging 得分:0.7907212316308773\n",
      "开始保存模型：Bagging\n"
     ]
    }
   ],
   "source": [
    "for name,model in zip(models_str,models):\n",
    "#     if name != 'XGBoost':\n",
    "#         continue\n",
    "    print('开始训练模型：'+ name)\n",
    "    model=model   #建立模型\n",
    "    model.fit(train_data_x, train_data_y.values.ravel())\n",
    "    pred_y=model.predict(test_data_x)  \n",
    "    score=model.score(test_data_x, test_data_y.values.ravel())\n",
    "    score_list.append(str(score)[:5])\n",
    "    print(name +' 得分:'+str(score))\n",
    "    # 保存模型\n",
    "    print('开始保存模型：'+ name)\n",
    "    save_path_name= 'model/' + name +\"_train_model.m\"\n",
    "    joblib.dump(model, save_path_name)"
   ]
  },
  {
   "cell_type": "code",
   "execution_count": 4,
   "metadata": {},
   "outputs": [
    {
     "data": {
      "text/plain": [
       "['0.529',\n",
       " '0.654',\n",
       " '-0.03',\n",
       " '0.529',\n",
       " '0.529',\n",
       " '0.564',\n",
       " '0.454',\n",
       " '0.485',\n",
       " '0.799',\n",
       " '0.792',\n",
       " '0.245',\n",
       " '0.746',\n",
       " '0.788']"
      ]
     },
     "execution_count": 4,
     "metadata": {},
     "output_type": "execute_result"
    }
   ],
   "source": [
    "score_list"
   ]
  },
  {
   "cell_type": "code",
   "execution_count": 11,
   "metadata": {},
   "outputs": [
    {
     "name": "stdout",
     "output_type": "stream",
     "text": [
      "(44013, 1)\n",
      "(14671, 1)\n",
      "(14672, 1)\n"
     ]
    }
   ],
   "source": [
    "print(train_data_y.shape)\n",
    "print(validate_data_y.shape)\n",
    "print(test_data_y.shape)"
   ]
  },
  {
   "cell_type": "code",
   "execution_count": 12,
   "metadata": {},
   "outputs": [
    {
     "data": {
      "text/plain": [
       "size           float64\n",
       "traffic          int64\n",
       "tag_0            int64\n",
       "tag_1            int64\n",
       "tag_2            int64\n",
       "                ...   \n",
       "address__13      int64\n",
       "address__14      int64\n",
       "address__15      int64\n",
       "address__16      int64\n",
       "address__17      int64\n",
       "Length: 121, dtype: object"
      ]
     },
     "execution_count": 12,
     "metadata": {},
     "output_type": "execute_result"
    }
   ],
   "source": [
    "train_data_x.dtypes"
   ]
  }
 ],
 "metadata": {
  "kernelspec": {
   "display_name": "Python 3",
   "language": "python",
   "name": "python3"
  },
  "language_info": {
   "codemirror_mode": {
    "name": "ipython",
    "version": 3
   },
   "file_extension": ".py",
   "mimetype": "text/x-python",
   "name": "python",
   "nbconvert_exporter": "python",
   "pygments_lexer": "ipython3",
   "version": "3.6.8"
  }
 },
 "nbformat": 4,
 "nbformat_minor": 2
}
