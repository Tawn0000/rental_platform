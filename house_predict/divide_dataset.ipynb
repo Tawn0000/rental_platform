{
 "cells": [
  {
   "cell_type": "code",
   "execution_count": 1,
   "metadata": {},
   "outputs": [
    {
     "name": "stderr",
     "output_type": "stream",
     "text": [
      "/Users/tawn/.pyenv/versions/3.6.8/lib/python3.6/site-packages/pandas/compat/__init__.py:117: UserWarning: Could not import the lzma module. Your installed Python is incomplete. Attempting to use lzma compression will result in a RuntimeError.\n",
      "  warnings.warn(msg)\n"
     ]
    }
   ],
   "source": [
    "import os\n",
    "import sys\n",
    "import pandas as pd\n",
    "import numpy\n",
    "import json"
   ]
  },
  {
   "cell_type": "code",
   "execution_count": 2,
   "metadata": {},
   "outputs": [],
   "source": [
    "file_list = os.listdir('../house_clean/shanghai.house.csv')\n",
    "file = ''\n",
    "for i in file_list:\n",
    "    if os.path.splitext(i)[1] == '.csv':\n",
    "        file = i\n",
    "        break"
   ]
  },
  {
   "cell_type": "code",
   "execution_count": 3,
   "metadata": {},
   "outputs": [],
   "source": [
    "df = pd.DataFrame(pd.read_csv('../house_clean/shanghai.house.csv/' + file, header=0))"
   ]
  },
  {
   "cell_type": "code",
   "execution_count": 4,
   "metadata": {},
   "outputs": [
    {
     "name": "stdout",
     "output_type": "stream",
     "text": [
      "['raw_key', 'price', 'pay_way', 'tag', 'rent_way', 'house_type', 'size', 'orientation', 'floor', 'decorate_type', 'facility', 'traffic', 'address', 'coordinate']\n"
     ]
    }
   ],
   "source": [
    "print(list(df))"
   ]
  },
  {
   "cell_type": "code",
   "execution_count": 5,
   "metadata": {},
   "outputs": [],
   "source": [
    "from sklearn.model_selection import train_test_split\n",
    "df_train,df_test = train_test_split(df,test_size = 0.2,stratify=df['address'], random_state=1)\n",
    "# df_train,df_validate = train_test_split(df_train,test_size=0.25,stratify=df_train['address'], random_state=1)"
   ]
  },
  {
   "cell_type": "code",
   "execution_count": 6,
   "metadata": {},
   "outputs": [],
   "source": [
    "def convert(df_input):\n",
    "    df_res = df_input.drop(['raw_key', 'tag', 'coordinate', 'rent_way', 'house_type', 'floor', 'facility'], axis=1)\n",
    "    columns = ['tag', 'rent_way', 'house_type', 'floor', 'facility']\n",
    "    print(list(df_res))\n",
    "    for column in columns:\n",
    "        ser = df_input[column].map(lambda x : json.loads(x))\n",
    "        for i in range(len(ser[0])):\n",
    "            df_res[column + '_' + str(i)] = ser.map(lambda x : x[i])\n",
    "    # one-hot code\n",
    "    df_res = pd.get_dummies(df_res, columns=['pay_way', 'rent_way_0', 'rent_way_1', 'rent_way_2', 'orientation', 'decorate_type', 'address'], prefix=['pay_way_', 'rent_way_0_', 'rent_way_1_', 'rent_way_2_', 'orientation_', 'decorate_type_', 'address_'])\n",
    "    return df_res"
   ]
  },
  {
   "cell_type": "code",
   "execution_count": 7,
   "metadata": {},
   "outputs": [
    {
     "name": "stdout",
     "output_type": "stream",
     "text": [
      "['price', 'pay_way', 'size', 'orientation', 'decorate_type', 'traffic', 'address']\n",
      "['price', 'pay_way', 'size', 'orientation', 'decorate_type', 'traffic', 'address']\n"
     ]
    }
   ],
   "source": [
    "# 调整特征\n",
    "train_data = convert(df_train.reset_index(drop=True))\n",
    "# validate_data = convert(df_validate.reset_index(drop=True))\n",
    "test_data = convert(df_test.reset_index(drop=True))\n",
    "# 统一列名\n",
    "# validate_data = validate_data.reindex(columns=train_data.columns, fill_value=0)\n",
    "test_data = test_data.reindex(columns=train_data.columns, fill_value=0)"
   ]
  },
  {
   "cell_type": "code",
   "execution_count": 8,
   "metadata": {},
   "outputs": [
    {
     "name": "stdout",
     "output_type": "stream",
     "text": [
      "['price', 'size', 'traffic', 'tag_0', 'tag_1', 'tag_2', 'tag_3', 'tag_4', 'tag_5', 'tag_6', 'tag_7', 'tag_8', 'tag_9', 'tag_10', 'tag_11', 'tag_12', 'tag_13', 'tag_14', 'tag_15', 'tag_16', 'tag_17', 'tag_18', 'tag_19', 'tag_20', 'tag_21', 'tag_22', 'tag_23', 'tag_24', 'tag_25', 'tag_26', 'tag_27', 'tag_28', 'tag_29', 'tag_30', 'tag_31', 'house_type_0', 'house_type_1', 'house_type_2', 'floor_0', 'floor_1', 'floor_2', 'facility_0', 'facility_1', 'facility_2', 'facility_3', 'facility_4', 'facility_5', 'facility_6', 'facility_7', 'facility_8', 'facility_9', 'facility_10', 'facility_11', 'facility_12', 'facility_13', 'facility_14', 'facility_15', 'facility_16', 'facility_17', 'facility_18', 'facility_19', 'facility_20', 'pay_way__0', 'pay_way__1', 'pay_way__2', 'pay_way__3', 'pay_way__4', 'pay_way__5', 'pay_way__6', 'pay_way__7', 'pay_way__8', 'pay_way__9', 'pay_way__10', 'pay_way__11', 'pay_way__12', 'pay_way__13', 'rent_way_0__1', 'rent_way_0__2', 'rent_way_1__0', 'rent_way_1__1', 'rent_way_1__2', 'rent_way_1__3', 'rent_way_1__4', 'rent_way_1__6', 'rent_way_2__0', 'rent_way_2__1', 'rent_way_2__2', 'rent_way_2__3', 'orientation__0', 'orientation__1', 'orientation__2', 'orientation__3', 'orientation__4', 'orientation__5', 'orientation__6', 'orientation__7', 'orientation__8', 'orientation__9', 'orientation__10', 'decorate_type__0', 'decorate_type__1', 'decorate_type__2', 'decorate_type__3', 'decorate_type__4', 'decorate_type__5', 'address__1', 'address__2', 'address__3', 'address__4', 'address__5', 'address__6', 'address__7', 'address__8', 'address__9', 'address__10', 'address__11', 'address__12', 'address__13', 'address__14', 'address__15', 'address__16', 'address__17']\n"
     ]
    }
   ],
   "source": [
    "print(list(test_data))\n",
    "# columns"
   ]
  },
  {
   "cell_type": "code",
   "execution_count": 9,
   "metadata": {},
   "outputs": [
    {
     "name": "stdout",
     "output_type": "stream",
     "text": [
      "['price', 'size', 'traffic', 'tag_0', 'tag_1', 'tag_2', 'tag_3', 'tag_4', 'tag_5', 'tag_6', 'tag_7', 'tag_8', 'tag_9', 'tag_10', 'tag_11', 'tag_12', 'tag_13', 'tag_14', 'tag_15', 'tag_16', 'tag_17', 'tag_18', 'tag_19', 'tag_20', 'tag_21', 'tag_22', 'tag_23', 'tag_24', 'tag_25', 'tag_26', 'tag_27', 'tag_28', 'tag_29', 'tag_30', 'tag_31', 'house_type_0', 'house_type_1', 'house_type_2', 'floor_0', 'floor_1', 'floor_2', 'facility_0', 'facility_1', 'facility_2', 'facility_3', 'facility_4', 'facility_5', 'facility_6', 'facility_7', 'facility_8', 'facility_9', 'facility_10', 'facility_11', 'facility_12', 'facility_13', 'facility_14', 'facility_15', 'facility_16', 'facility_17', 'facility_18', 'facility_19', 'facility_20', 'pay_way__0', 'pay_way__1', 'pay_way__2', 'pay_way__3', 'pay_way__4', 'pay_way__5', 'pay_way__6', 'pay_way__7', 'pay_way__8', 'pay_way__9', 'pay_way__10', 'pay_way__11', 'pay_way__12', 'pay_way__13', 'rent_way_0__1', 'rent_way_0__2', 'rent_way_1__0', 'rent_way_1__1', 'rent_way_1__2', 'rent_way_1__3', 'rent_way_1__4', 'rent_way_1__6', 'rent_way_2__0', 'rent_way_2__1', 'rent_way_2__2', 'rent_way_2__3', 'orientation__0', 'orientation__1', 'orientation__2', 'orientation__3', 'orientation__4', 'orientation__5', 'orientation__6', 'orientation__7', 'orientation__8', 'orientation__9', 'orientation__10', 'decorate_type__0', 'decorate_type__1', 'decorate_type__2', 'decorate_type__3', 'decorate_type__4', 'decorate_type__5', 'address__1', 'address__2', 'address__3', 'address__4', 'address__5', 'address__6', 'address__7', 'address__8', 'address__9', 'address__10', 'address__11', 'address__12', 'address__13', 'address__14', 'address__15', 'address__16', 'address__17']\n"
     ]
    }
   ],
   "source": [
    "print(list(train_data))"
   ]
  },
  {
   "cell_type": "code",
   "execution_count": 10,
   "metadata": {},
   "outputs": [],
   "source": [
    "columns = ['price', 'size', 'traffic', 'tag_0', 'tag_1', 'tag_2', 'tag_3', 'tag_4', 'tag_5', 'tag_6', 'tag_7', 'tag_8', 'tag_9', 'tag_10', 'tag_11', 'tag_12', 'tag_13', 'tag_14', 'tag_15', 'tag_16', 'tag_17', 'tag_18', 'tag_19', 'tag_20', 'tag_21', 'tag_22', 'tag_23', 'tag_24', 'tag_25', 'tag_26', 'tag_27', 'tag_28', 'tag_29', 'tag_30', 'tag_31', 'house_type_0', 'house_type_1', 'house_type_2', 'floor_0', 'floor_1', 'floor_2', 'facility_0', 'facility_1', 'facility_2', 'facility_3', 'facility_4', 'facility_5', 'facility_6', 'facility_7', 'facility_8', 'facility_9', 'facility_10', 'facility_11', 'facility_12', 'facility_13', 'facility_14', 'facility_15', 'facility_16', 'facility_17', 'facility_18', 'facility_19', 'facility_20', 'pay_way__0', 'pay_way__1', 'pay_way__2', 'pay_way__3', 'pay_way__4', 'pay_way__5', 'pay_way__6', 'pay_way__7', 'pay_way__8', 'pay_way__9', 'pay_way__10', 'pay_way__11', 'pay_way__12', 'pay_way__13', 'rent_way_0__1', 'rent_way_0__2', 'rent_way_1__0', 'rent_way_1__1', 'rent_way_1__2', 'rent_way_1__3', 'rent_way_1__4', 'rent_way_1__6', 'rent_way_2__0', 'rent_way_2__1', 'rent_way_2__2', 'rent_way_2__3', 'orientation__0', 'orientation__1', 'orientation__2', 'orientation__3', 'orientation__4', 'orientation__5', 'orientation__6', 'orientation__7', 'orientation__8', 'orientation__9', 'orientation__10', 'decorate_type__0', 'decorate_type__1', 'decorate_type__2', 'decorate_type__3', 'decorate_type__4', 'decorate_type__5', 'address__1', 'address__2', 'address__3', 'address__4', 'address__5', 'address__6', 'address__7', 'address__8', 'address__9', 'address__10', 'address__11', 'address__12', 'address__13', 'address__14', 'address__15', 'address__16', 'address__17']"
   ]
  },
  {
   "cell_type": "code",
   "execution_count": 11,
   "metadata": {},
   "outputs": [],
   "source": [
    "train_data.to_csv(\"./data/train.csv\")\n",
    "# validate_data.to_csv(\"./data/validate.csv\")\n",
    "test_data.to_csv(\"./data/test.csv\")"
   ]
  },
  {
   "cell_type": "code",
   "execution_count": 13,
   "metadata": {},
   "outputs": [
    {
     "name": "stdout",
     "output_type": "stream",
     "text": [
      "(58684, 122)\n",
      "(14672, 122)\n"
     ]
    }
   ],
   "source": [
    "print(train_data.shape)\n",
    "print(test_data.shape)\n",
    "# print(validate_data.shape)"
   ]
  },
  {
   "cell_type": "code",
   "execution_count": 47,
   "metadata": {},
   "outputs": [
    {
     "data": {
      "text/html": [
       "<div>\n",
       "<style scoped>\n",
       "    .dataframe tbody tr th:only-of-type {\n",
       "        vertical-align: middle;\n",
       "    }\n",
       "\n",
       "    .dataframe tbody tr th {\n",
       "        vertical-align: top;\n",
       "    }\n",
       "\n",
       "    .dataframe thead th {\n",
       "        text-align: right;\n",
       "    }\n",
       "</style>\n",
       "<table border=\"1\" class=\"dataframe\">\n",
       "  <thead>\n",
       "    <tr style=\"text-align: right;\">\n",
       "      <th></th>\n",
       "      <th>raw_key</th>\n",
       "      <th>price</th>\n",
       "      <th>pay_way</th>\n",
       "      <th>tag</th>\n",
       "      <th>rent_way</th>\n",
       "      <th>house_type</th>\n",
       "      <th>size</th>\n",
       "      <th>orientation</th>\n",
       "      <th>floor</th>\n",
       "      <th>decorate_type</th>\n",
       "      <th>facility</th>\n",
       "      <th>traffic</th>\n",
       "      <th>address</th>\n",
       "      <th>coordinate</th>\n",
       "    </tr>\n",
       "  </thead>\n",
       "  <tbody>\n",
       "    <tr>\n",
       "      <th>0</th>\n",
       "      <td>False</td>\n",
       "      <td>False</td>\n",
       "      <td>False</td>\n",
       "      <td>False</td>\n",
       "      <td>False</td>\n",
       "      <td>False</td>\n",
       "      <td>False</td>\n",
       "      <td>False</td>\n",
       "      <td>False</td>\n",
       "      <td>False</td>\n",
       "      <td>False</td>\n",
       "      <td>False</td>\n",
       "      <td>False</td>\n",
       "      <td>False</td>\n",
       "    </tr>\n",
       "    <tr>\n",
       "      <th>1</th>\n",
       "      <td>False</td>\n",
       "      <td>False</td>\n",
       "      <td>False</td>\n",
       "      <td>False</td>\n",
       "      <td>False</td>\n",
       "      <td>False</td>\n",
       "      <td>False</td>\n",
       "      <td>False</td>\n",
       "      <td>False</td>\n",
       "      <td>False</td>\n",
       "      <td>False</td>\n",
       "      <td>False</td>\n",
       "      <td>False</td>\n",
       "      <td>False</td>\n",
       "    </tr>\n",
       "    <tr>\n",
       "      <th>2</th>\n",
       "      <td>False</td>\n",
       "      <td>False</td>\n",
       "      <td>False</td>\n",
       "      <td>False</td>\n",
       "      <td>False</td>\n",
       "      <td>False</td>\n",
       "      <td>False</td>\n",
       "      <td>False</td>\n",
       "      <td>False</td>\n",
       "      <td>False</td>\n",
       "      <td>False</td>\n",
       "      <td>False</td>\n",
       "      <td>False</td>\n",
       "      <td>True</td>\n",
       "    </tr>\n",
       "    <tr>\n",
       "      <th>3</th>\n",
       "      <td>False</td>\n",
       "      <td>False</td>\n",
       "      <td>False</td>\n",
       "      <td>False</td>\n",
       "      <td>False</td>\n",
       "      <td>False</td>\n",
       "      <td>False</td>\n",
       "      <td>False</td>\n",
       "      <td>False</td>\n",
       "      <td>False</td>\n",
       "      <td>False</td>\n",
       "      <td>False</td>\n",
       "      <td>False</td>\n",
       "      <td>False</td>\n",
       "    </tr>\n",
       "    <tr>\n",
       "      <th>4</th>\n",
       "      <td>False</td>\n",
       "      <td>False</td>\n",
       "      <td>False</td>\n",
       "      <td>False</td>\n",
       "      <td>False</td>\n",
       "      <td>False</td>\n",
       "      <td>False</td>\n",
       "      <td>False</td>\n",
       "      <td>False</td>\n",
       "      <td>False</td>\n",
       "      <td>False</td>\n",
       "      <td>False</td>\n",
       "      <td>False</td>\n",
       "      <td>False</td>\n",
       "    </tr>\n",
       "    <tr>\n",
       "      <th>...</th>\n",
       "      <td>...</td>\n",
       "      <td>...</td>\n",
       "      <td>...</td>\n",
       "      <td>...</td>\n",
       "      <td>...</td>\n",
       "      <td>...</td>\n",
       "      <td>...</td>\n",
       "      <td>...</td>\n",
       "      <td>...</td>\n",
       "      <td>...</td>\n",
       "      <td>...</td>\n",
       "      <td>...</td>\n",
       "      <td>...</td>\n",
       "      <td>...</td>\n",
       "    </tr>\n",
       "    <tr>\n",
       "      <th>73351</th>\n",
       "      <td>False</td>\n",
       "      <td>False</td>\n",
       "      <td>False</td>\n",
       "      <td>False</td>\n",
       "      <td>False</td>\n",
       "      <td>False</td>\n",
       "      <td>False</td>\n",
       "      <td>False</td>\n",
       "      <td>False</td>\n",
       "      <td>False</td>\n",
       "      <td>False</td>\n",
       "      <td>True</td>\n",
       "      <td>False</td>\n",
       "      <td>False</td>\n",
       "    </tr>\n",
       "    <tr>\n",
       "      <th>73352</th>\n",
       "      <td>False</td>\n",
       "      <td>False</td>\n",
       "      <td>False</td>\n",
       "      <td>False</td>\n",
       "      <td>False</td>\n",
       "      <td>False</td>\n",
       "      <td>False</td>\n",
       "      <td>False</td>\n",
       "      <td>False</td>\n",
       "      <td>False</td>\n",
       "      <td>False</td>\n",
       "      <td>True</td>\n",
       "      <td>False</td>\n",
       "      <td>False</td>\n",
       "    </tr>\n",
       "    <tr>\n",
       "      <th>73353</th>\n",
       "      <td>False</td>\n",
       "      <td>False</td>\n",
       "      <td>False</td>\n",
       "      <td>False</td>\n",
       "      <td>False</td>\n",
       "      <td>False</td>\n",
       "      <td>False</td>\n",
       "      <td>False</td>\n",
       "      <td>False</td>\n",
       "      <td>False</td>\n",
       "      <td>False</td>\n",
       "      <td>False</td>\n",
       "      <td>False</td>\n",
       "      <td>False</td>\n",
       "    </tr>\n",
       "    <tr>\n",
       "      <th>73354</th>\n",
       "      <td>False</td>\n",
       "      <td>False</td>\n",
       "      <td>False</td>\n",
       "      <td>False</td>\n",
       "      <td>False</td>\n",
       "      <td>False</td>\n",
       "      <td>False</td>\n",
       "      <td>False</td>\n",
       "      <td>False</td>\n",
       "      <td>False</td>\n",
       "      <td>False</td>\n",
       "      <td>False</td>\n",
       "      <td>False</td>\n",
       "      <td>True</td>\n",
       "    </tr>\n",
       "    <tr>\n",
       "      <th>73355</th>\n",
       "      <td>False</td>\n",
       "      <td>False</td>\n",
       "      <td>False</td>\n",
       "      <td>False</td>\n",
       "      <td>False</td>\n",
       "      <td>False</td>\n",
       "      <td>False</td>\n",
       "      <td>False</td>\n",
       "      <td>False</td>\n",
       "      <td>False</td>\n",
       "      <td>False</td>\n",
       "      <td>True</td>\n",
       "      <td>False</td>\n",
       "      <td>False</td>\n",
       "    </tr>\n",
       "  </tbody>\n",
       "</table>\n",
       "<p>73356 rows × 14 columns</p>\n",
       "</div>"
      ],
      "text/plain": [
       "       raw_key  price  pay_way    tag  rent_way  house_type   size  \\\n",
       "0        False  False    False  False     False       False  False   \n",
       "1        False  False    False  False     False       False  False   \n",
       "2        False  False    False  False     False       False  False   \n",
       "3        False  False    False  False     False       False  False   \n",
       "4        False  False    False  False     False       False  False   \n",
       "...        ...    ...      ...    ...       ...         ...    ...   \n",
       "73351    False  False    False  False     False       False  False   \n",
       "73352    False  False    False  False     False       False  False   \n",
       "73353    False  False    False  False     False       False  False   \n",
       "73354    False  False    False  False     False       False  False   \n",
       "73355    False  False    False  False     False       False  False   \n",
       "\n",
       "       orientation  floor  decorate_type  facility  traffic  address  \\\n",
       "0            False  False          False     False    False    False   \n",
       "1            False  False          False     False    False    False   \n",
       "2            False  False          False     False    False    False   \n",
       "3            False  False          False     False    False    False   \n",
       "4            False  False          False     False    False    False   \n",
       "...            ...    ...            ...       ...      ...      ...   \n",
       "73351        False  False          False     False     True    False   \n",
       "73352        False  False          False     False     True    False   \n",
       "73353        False  False          False     False    False    False   \n",
       "73354        False  False          False     False    False    False   \n",
       "73355        False  False          False     False     True    False   \n",
       "\n",
       "       coordinate  \n",
       "0           False  \n",
       "1           False  \n",
       "2            True  \n",
       "3           False  \n",
       "4           False  \n",
       "...           ...  \n",
       "73351       False  \n",
       "73352       False  \n",
       "73353       False  \n",
       "73354        True  \n",
       "73355       False  \n",
       "\n",
       "[73356 rows x 14 columns]"
      ]
     },
     "execution_count": 47,
     "metadata": {},
     "output_type": "execute_result"
    }
   ],
   "source": [
    "# 基本操作\n",
    "df.shape\n",
    "df.info\n",
    "df.dtypes\n",
    "df.isnull()\n",
    "df.values\n",
    "df.columns\n",
    "df.head() #默认前10行数据\n",
    "df.tail() #默认后10 行数据\n",
    "# 数据处理\n",
    "df.loc[0] # 按索引提取单行的数值\n",
    "df_inner.iloc[0:5] # 按索引提取区域行数值\n",
    "df.sample(n=3) # 随机取样\n",
    "df.corr() # 相关性分析\n",
    "df.cov() # 协方差分析"
   ]
  },
  {
   "cell_type": "code",
   "execution_count": 45,
   "metadata": {},
   "outputs": [
    {
     "data": {
      "text/plain": [
       "raw_key           object\n",
       "price              int64\n",
       "pay_way            int64\n",
       "tag               object\n",
       "rent_way          object\n",
       "house_type        object\n",
       "size             float64\n",
       "orientation        int64\n",
       "floor             object\n",
       "decorate_type      int64\n",
       "facility          object\n",
       "traffic            int64\n",
       "address            int64\n",
       "coordinate        object\n",
       "dtype: object"
      ]
     },
     "execution_count": 45,
     "metadata": {},
     "output_type": "execute_result"
    }
   ],
   "source": [
    "df.dtypes"
   ]
  },
  {
   "cell_type": "code",
   "execution_count": 53,
   "metadata": {},
   "outputs": [
    {
     "data": {
      "text/plain": [
       "(7336, 14)"
      ]
     },
     "execution_count": 53,
     "metadata": {},
     "output_type": "execute_result"
    }
   ],
   "source": [
    "df.sample(frac=0.1)"
   ]
  },
  {
   "cell_type": "code",
   "execution_count": 58,
   "metadata": {},
   "outputs": [],
   "source": [
    "data = pd.read_csv('./shanghai.house_new.csv/part-00000-757f1dc3-92a2-4c38-af95-f1f929523c43-c000.csv',header=0)"
   ]
  },
  {
   "cell_type": "code",
   "execution_count": 31,
   "metadata": {},
   "outputs": [
    {
     "data": {
      "text/plain": [
       "raw_key                           423de5fbf595782562c8c746bb4d01d2\n",
       "price                                                        35000\n",
       "pay_way                                                          2\n",
       "tag              [null, null, null, null, null, null, null, nul...\n",
       "rent_way                                           [2, null, null]\n",
       "house_type                                               [4, 2, 3]\n",
       "size                                                           238\n",
       "orientation                                                     10\n",
       "floor                                              [2, null, null]\n",
       "decorate_type                                                    4\n",
       "facility         [null, null, 1, 1, null, null, null, null, 1, ...\n",
       "traffic                                                        625\n",
       "address                                                          5\n",
       "coordinate                                                     NaN\n",
       "Name: 2, dtype: object"
      ]
     },
     "execution_count": 31,
     "metadata": {},
     "output_type": "execute_result"
    }
   ],
   "source": [
    "df.loc[2]"
   ]
  },
  {
   "cell_type": "code",
   "execution_count": 81,
   "metadata": {},
   "outputs": [
    {
     "data": {
      "text/plain": [
       "[2, 1, 1]"
      ]
     },
     "execution_count": 81,
     "metadata": {},
     "output_type": "execute_result"
    }
   ],
   "source": [
    "json.loads(df.loc[0]['house_type'])"
   ]
  },
  {
   "cell_type": "code",
   "execution_count": 83,
   "metadata": {},
   "outputs": [],
   "source": [
    "df_s = df.sample(n=2)"
   ]
  },
  {
   "cell_type": "code",
   "execution_count": 84,
   "metadata": {},
   "outputs": [],
   "source": [
    "df_s['tag'] = df_s['tag'].map(lambda x : json.loads(x))"
   ]
  },
  {
   "cell_type": "code",
   "execution_count": 91,
   "metadata": {},
   "outputs": [
    {
     "data": {
      "text/html": [
       "<div>\n",
       "<style scoped>\n",
       "    .dataframe tbody tr th:only-of-type {\n",
       "        vertical-align: middle;\n",
       "    }\n",
       "\n",
       "    .dataframe tbody tr th {\n",
       "        vertical-align: top;\n",
       "    }\n",
       "\n",
       "    .dataframe thead th {\n",
       "        text-align: right;\n",
       "    }\n",
       "</style>\n",
       "<table border=\"1\" class=\"dataframe\">\n",
       "  <thead>\n",
       "    <tr style=\"text-align: right;\">\n",
       "      <th></th>\n",
       "      <th>raw_key</th>\n",
       "      <th>price</th>\n",
       "      <th>pay_way</th>\n",
       "      <th>tag</th>\n",
       "      <th>rent_way</th>\n",
       "      <th>house_type</th>\n",
       "      <th>size</th>\n",
       "      <th>orientation</th>\n",
       "      <th>floor</th>\n",
       "      <th>decorate_type</th>\n",
       "      <th>facility</th>\n",
       "      <th>traffic</th>\n",
       "      <th>address</th>\n",
       "      <th>coordinate</th>\n",
       "    </tr>\n",
       "  </thead>\n",
       "  <tbody>\n",
       "    <tr>\n",
       "      <th>23587</th>\n",
       "      <td>ffc2116129ce49212dbd251845f368e5</td>\n",
       "      <td>2300</td>\n",
       "      <td>2.0</td>\n",
       "      <td>[None, None, None, None, None, None, None, Non...</td>\n",
       "      <td>[1, 1, 3]</td>\n",
       "      <td>[3, 2, 2]</td>\n",
       "      <td>25.0</td>\n",
       "      <td>2.0</td>\n",
       "      <td>[2, null, null]</td>\n",
       "      <td>5.0</td>\n",
       "      <td>[null, null, 1, 1, null, 1, null, null, 1, 1, ...</td>\n",
       "      <td>302.0</td>\n",
       "      <td>7</td>\n",
       "      <td>[121.449535, 31.280409]</td>\n",
       "    </tr>\n",
       "    <tr>\n",
       "      <th>35817</th>\n",
       "      <td>3a8d3b1a33ff7503d5756275bbfb119a</td>\n",
       "      <td>5500</td>\n",
       "      <td>4.0</td>\n",
       "      <td>[None, None, None, None, None, 1, None, None, ...</td>\n",
       "      <td>[2, null, null]</td>\n",
       "      <td>[2, 1, 1]</td>\n",
       "      <td>96.0</td>\n",
       "      <td>2.0</td>\n",
       "      <td>[2, null, null]</td>\n",
       "      <td>4.0</td>\n",
       "      <td>[null, 1, 1, 1, null, 1, null, null, 1, 1, nul...</td>\n",
       "      <td>789.0</td>\n",
       "      <td>16</td>\n",
       "      <td>NaN</td>\n",
       "    </tr>\n",
       "  </tbody>\n",
       "</table>\n",
       "</div>"
      ],
      "text/plain": [
       "                                raw_key  price  pay_way  \\\n",
       "23587  ffc2116129ce49212dbd251845f368e5   2300      2.0   \n",
       "35817  3a8d3b1a33ff7503d5756275bbfb119a   5500      4.0   \n",
       "\n",
       "                                                     tag         rent_way  \\\n",
       "23587  [None, None, None, None, None, None, None, Non...        [1, 1, 3]   \n",
       "35817  [None, None, None, None, None, 1, None, None, ...  [2, null, null]   \n",
       "\n",
       "      house_type  size  orientation            floor  decorate_type  \\\n",
       "23587  [3, 2, 2]  25.0          2.0  [2, null, null]            5.0   \n",
       "35817  [2, 1, 1]  96.0          2.0  [2, null, null]            4.0   \n",
       "\n",
       "                                                facility  traffic  address  \\\n",
       "23587  [null, null, 1, 1, null, 1, null, null, 1, 1, ...    302.0        7   \n",
       "35817  [null, 1, 1, 1, null, 1, null, null, 1, 1, nul...    789.0       16   \n",
       "\n",
       "                    coordinate  \n",
       "23587  [121.449535, 31.280409]  \n",
       "35817                      NaN  "
      ]
     },
     "execution_count": 91,
     "metadata": {},
     "output_type": "execute_result"
    }
   ],
   "source": [
    "df_s.sort_index()"
   ]
  },
  {
   "cell_type": "code",
   "execution_count": 102,
   "metadata": {},
   "outputs": [
    {
     "data": {
      "text/plain": [
       "array([['3a8d3b1a33ff7503d5756275bbfb119a', 5500, 4.0,\n",
       "        list([None, None, None, None, None, 1, None, None, None, None, None, None, None, None, None, None, None, 1, None, None, None, None, None, None, None, None, None, None, 1, None, None, None]),\n",
       "        '[2, null, null]', '[2, 1, 1]', 96.0, 2.0, '[2, null, null]',\n",
       "        4.0,\n",
       "        '[null, 1, 1, 1, null, 1, null, null, 1, 1, null, null, null, 1, 1, null, 1, 1, 1, 1, null]',\n",
       "        789.0, 16, nan],\n",
       "       ['ffc2116129ce49212dbd251845f368e5', 2300, 2.0,\n",
       "        list([None, None, None, None, None, None, None, None, None, None, None, None, 1, None, None, None, None, 1, None, None, None, None, None, None, None, None, None, None, 1, None, None, None]),\n",
       "        '[1, 1, 3]', '[3, 2, 2]', 25.0, 2.0, '[2, null, null]', 5.0,\n",
       "        '[null, null, 1, 1, null, 1, null, null, 1, 1, null, null, null, 1, 1, null, 1, 1, 1, null, null]',\n",
       "        302.0, 7, '[121.449535, 31.280409]']], dtype=object)"
      ]
     },
     "execution_count": 102,
     "metadata": {},
     "output_type": "execute_result"
    }
   ],
   "source": [
    "df_s.values"
   ]
  },
  {
   "cell_type": "code",
   "execution_count": 41,
   "metadata": {},
   "outputs": [
    {
     "name": "stdout",
     "output_type": "stream",
     "text": [
      "5\n"
     ]
    }
   ],
   "source": [
    "import numpy as np\n",
    "sum = 0\n",
    "for row in df.itertuples():\n",
    "    if getattr(row, 'pay_way') != getattr(row, 'pay_way'):\n",
    "        sum += 1\n",
    "print(sum)"
   ]
  },
  {
   "cell_type": "code",
   "execution_count": 43,
   "metadata": {},
   "outputs": [],
   "source": [
    "data = {'pay_way': [3], 'tag': [[0, 0, 1, 0, 0, 0, 0, 0, 0, 0, 0, 1, 0, 0, 0, 0, 0, 0, 1, 0, 0, 0, 0, 0, 0, 0, 1, 0, 0, 0, 0, 0]], 'rent_way': [[1, 2, 1]], 'house_type': [[3, 3, 3]], 'size': [34.0], 'orientation': [3], 'floor': [[1, 1, 4]], 'decorate_type': [1], 'facility': [[0, 0, 0, 1, 1, 0, 0, 0, 0, 0, 0, 0, 0, 1, 0, 0, 0, 0, 0, 0, 0]], 'traffic': [233], 'address': [5], 'coordinate': [None]}"
   ]
  },
  {
   "cell_type": "code",
   "execution_count": 44,
   "metadata": {},
   "outputs": [],
   "source": [
    "columns = ['pay_way', 'tag', 'rent_way', 'house_type', 'size', 'orientation', 'floor', 'decorate_type', 'facility', 'traffic', 'address', 'coordinate']\n",
    "data = pd.DataFrame(data, columns=columns)"
   ]
  },
  {
   "cell_type": "code",
   "execution_count": 45,
   "metadata": {},
   "outputs": [
    {
     "data": {
      "text/html": [
       "<div>\n",
       "<style scoped>\n",
       "    .dataframe tbody tr th:only-of-type {\n",
       "        vertical-align: middle;\n",
       "    }\n",
       "\n",
       "    .dataframe tbody tr th {\n",
       "        vertical-align: top;\n",
       "    }\n",
       "\n",
       "    .dataframe thead th {\n",
       "        text-align: right;\n",
       "    }\n",
       "</style>\n",
       "<table border=\"1\" class=\"dataframe\">\n",
       "  <thead>\n",
       "    <tr style=\"text-align: right;\">\n",
       "      <th></th>\n",
       "      <th>pay_way</th>\n",
       "      <th>tag</th>\n",
       "      <th>rent_way</th>\n",
       "      <th>house_type</th>\n",
       "      <th>size</th>\n",
       "      <th>orientation</th>\n",
       "      <th>floor</th>\n",
       "      <th>decorate_type</th>\n",
       "      <th>facility</th>\n",
       "      <th>traffic</th>\n",
       "      <th>address</th>\n",
       "      <th>coordinate</th>\n",
       "    </tr>\n",
       "  </thead>\n",
       "  <tbody>\n",
       "    <tr>\n",
       "      <th>0</th>\n",
       "      <td>3</td>\n",
       "      <td>[0, 0, 1, 0, 0, 0, 0, 0, 0, 0, 0, 1, 0, 0, 0, ...</td>\n",
       "      <td>[1, 2, 1]</td>\n",
       "      <td>[3, 3, 3]</td>\n",
       "      <td>34.0</td>\n",
       "      <td>3</td>\n",
       "      <td>[1, 1, 4]</td>\n",
       "      <td>1</td>\n",
       "      <td>[0, 0, 0, 1, 1, 0, 0, 0, 0, 0, 0, 0, 0, 1, 0, ...</td>\n",
       "      <td>233</td>\n",
       "      <td>5</td>\n",
       "      <td>None</td>\n",
       "    </tr>\n",
       "  </tbody>\n",
       "</table>\n",
       "</div>"
      ],
      "text/plain": [
       "   pay_way                                                tag   rent_way  \\\n",
       "0        3  [0, 0, 1, 0, 0, 0, 0, 0, 0, 0, 0, 1, 0, 0, 0, ...  [1, 2, 1]   \n",
       "\n",
       "  house_type  size  orientation      floor  decorate_type  \\\n",
       "0  [3, 3, 3]  34.0            3  [1, 1, 4]              1   \n",
       "\n",
       "                                            facility  traffic  address  \\\n",
       "0  [0, 0, 0, 1, 1, 0, 0, 0, 0, 0, 0, 0, 0, 1, 0, ...      233        5   \n",
       "\n",
       "  coordinate  \n",
       "0       None  "
      ]
     },
     "execution_count": 45,
     "metadata": {},
     "output_type": "execute_result"
    }
   ],
   "source": [
    "data"
   ]
  },
  {
   "cell_type": "code",
   "execution_count": 42,
   "metadata": {},
   "outputs": [
    {
     "data": {
      "text/plain": [
       "[1]"
      ]
     },
     "execution_count": 42,
     "metadata": {},
     "output_type": "execute_result"
    }
   ],
   "source": [
    "[1]"
   ]
  },
  {
   "cell_type": "code",
   "execution_count": null,
   "metadata": {},
   "outputs": [],
   "source": []
  }
 ],
 "metadata": {
  "kernelspec": {
   "display_name": "Python 3",
   "language": "python",
   "name": "python3"
  },
  "language_info": {
   "codemirror_mode": {
    "name": "ipython",
    "version": 3
   },
   "file_extension": ".py",
   "mimetype": "text/x-python",
   "name": "python",
   "nbconvert_exporter": "python",
   "pygments_lexer": "ipython3",
   "version": "3.6.8"
  }
 },
 "nbformat": 4,
 "nbformat_minor": 2
}
