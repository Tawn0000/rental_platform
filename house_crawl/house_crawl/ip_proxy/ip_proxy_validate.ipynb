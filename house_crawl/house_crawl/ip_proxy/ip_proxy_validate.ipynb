{
 "cells": [
  {
   "cell_type": "code",
   "execution_count": 38,
   "metadata": {},
   "outputs": [
    {
     "name": "stdout",
     "output_type": "stream",
     "text": [
      "invalid 121.40.66.129:808\n",
      "\n",
      "invalid 222.95.144.32:3000\n",
      "\n",
      "invalid 121.237.148.228:3000\n"
     ]
    }
   ],
   "source": [
    "import requests\n",
    "\n",
    "def validate_ip(item, ip_type):\n",
    "    try:\n",
    "        test_url = \"{}://baidu.com\".format(ip_type)\n",
    "        response = requests.get(ip_type, proxies=item, timeout=2)\n",
    "        if response.status_code == 200:\n",
    "            return True\n",
    "        return False\n",
    "    except Exception as ex:\n",
    "        return False\n",
    "    \n",
    "with open('ip.txt', 'r') as f:\n",
    "    ip_list = f.readlines()\n",
    "    \n",
    "ip_type = 'https'    \n",
    "for ip in ip_list:\n",
    "    item = {ip_type: '{}://{}'.format(ip_type, ip.strip('\\n'))}\n",
    "    if(validate_ip(item, ip_type)):\n",
    "        print('valid ' + ip)\n",
    "    else:\n",
    "        print('invalid ' + ip)\n"
   ]
  },
  {
   "cell_type": "code",
   "execution_count": null,
   "metadata": {},
   "outputs": [],
   "source": []
  },
  {
   "cell_type": "code",
   "execution_count": null,
   "metadata": {},
   "outputs": [],
   "source": []
  },
  {
   "cell_type": "code",
   "execution_count": null,
   "metadata": {},
   "outputs": [],
   "source": []
  }
 ],
 "metadata": {
  "kernelspec": {
   "display_name": "Python 3",
   "language": "python",
   "name": "python3"
  },
  "language_info": {
   "codemirror_mode": {
    "name": "ipython",
    "version": 3
   },
   "file_extension": ".py",
   "mimetype": "text/x-python",
   "name": "python",
   "nbconvert_exporter": "python",
   "pygments_lexer": "ipython3",
   "version": "3.6.8"
  }
 },
 "nbformat": 4,
 "nbformat_minor": 2
}
