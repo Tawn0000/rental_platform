{
 "cells": [
  {
   "cell_type": "markdown",
   "metadata": {},
   "source": [
    "## 调用高得API补充地铁距离"
   ]
  },
  {
   "cell_type": "code",
   "execution_count": 2,
   "metadata": {},
   "outputs": [
    {
     "name": "stdout",
     "output_type": "stream",
     "text": [
      "[936, 1118]\n"
     ]
    }
   ],
   "source": [
    "import requests\n",
    "import settings\n",
    "\n",
    "def get_coordinate(keywords, city='无锡'):\n",
    "    url = 'https://restapi.amap.com/v3/assistant/inputtips?output=json&city=%s&keywords=%s&key=%s'\n",
    "    url = url % (city, keywords, settings.key)\n",
    "    response = requests.get(url)\n",
    "    answer = response.json()\n",
    "#     print(url)\n",
    "#     print(answer)\n",
    "    if answer.get('status') == '1' and answer.get('count') != '0':\n",
    "#         print(answer.get('tips')[0].get('name'))\n",
    "        return answer.get('tips')[0].get('location')\n",
    "    else:\n",
    "        return None\n",
    "    \n",
    "    \n",
    "def get_distance(origin_list, destination):\n",
    "#     print(destination)\n",
    "    if not origin_list or not destination:\n",
    "        return [1000000000 for i in range(len(origin_list))]\n",
    "    url = 'https://restapi.amap.com/v3/distance?origins=%s&destination=%s&output=json&key=%s'\n",
    "    origin_str = '|'.join(origin_list)\n",
    "    url = url % (origin_str, destination, settings.key)\n",
    "    response = requests.get(url)\n",
    "    answer = response.json()\n",
    "#     print(url)\n",
    "#     print(answer)\n",
    "    if answer.get('status') == '1':\n",
    "        return [int(item['distance']) if item else 1000000000 for item in answer.get('results')]\n",
    "    else:\n",
    "        return [1000000000 for i in range(len(origin_list))]\n",
    "\n",
    "\n",
    "# # 步行路径规划\n",
    "# def get_walk_distance(origin, destination):\n",
    "# #     print(origin)\n",
    "# #     print(destination)\n",
    "#     if not origin or not destination:\n",
    "#         return None\n",
    "#     url = 'https://restapi.amap.com/v3/direction/walking?origin=%s&destination=%s&key=7d584a843bb546ac822c4c668ff25b8f'\n",
    "#     url = url % (origin, destination)\n",
    "#     response = requests.get(url)\n",
    "#     answer = response.json()\n",
    "#     print(url)\n",
    "#     print(answer)\n",
    "#     if answer.get('status') == '1' and answer.get('count') != '0':\n",
    "#         return answer.get('route').get('paths')[0].get('distance')\n",
    "#     else:\n",
    "#         return None\n",
    "\n",
    "    \n",
    "address1 = '无锡江南大学李园'\n",
    "address2 = '无锡江南大学桃园'\n",
    "address3 = '江南大学杏园'\n",
    "address4 = '无锡江南大学物联网工程学院'\n",
    "print(get_distance([get_coordinate(address1),get_coordinate(address2),get_coordinate(address3)], get_coordinate(address4)))\n",
    "\n",
    "# get_coordinate('地铁站', '上海')\n",
    "\n",
    "\n"
   ]
  },
  {
   "cell_type": "code",
   "execution_count": 8,
   "metadata": {},
   "outputs": [
    {
     "name": "stdout",
     "output_type": "stream",
     "text": [
      "100\n",
      "100\n",
      "100\n",
      "44\n",
      "['富锦路', '友谊西路', '宝安公路', '共富新村', '呼兰路', '通河新村', '共康路', '彭浦新村', '汶水路', '上海马戏城', '延长路', '中山北路', '上海火车站', '汉中路', '新闸路', '人民广场', '黄陂南路', '陕西南路', '常熟路', '衡山路', '徐家汇', '上海体育馆', '漕宝路', '上海南站', '锦江乐园', '莲花路', '外环路', '莘庄', '徐泾东', '虹桥火车站', '虹桥2号航站楼', '淞虹路', '北新泾', '威宁路', '娄山关路', '中山公园', '江苏路', '静安寺', '南京西路', '南京东路', '陆家嘴', '东昌路', '世纪大道', '上海科技馆', '世纪公园', '龙阳路', '张江高科', '金科路', '广兰路', '唐镇', '创新中路', '华夏东路', '川沙', '凌空路', '远东大道', '海天三路', '浦东国际机场', '石龙路', '龙漕路', '漕溪路', '宜山路', '虹桥路', '延安西路', '金沙江路', '曹杨路', '镇坪路', '中潭路', '宝山路', '东宝兴路', '虹口足球场', '赤峰路', '大柏树', '江湾镇', '殷高西路', '长江南路', '淞发路', '张华浜', '淞滨路', '水产路', '宝杨路', '友谊路', '铁力路', '江杨北路', '海伦路', '临平路', '大连路', '杨树浦路', '浦东大道', '浦电路', '蓝村路', '塘桥', '南浦大桥', '西藏南路', '鲁班路', '大木桥路', '东安路', '上海体育场', '春申路', '银都路', '颛桥', '北桥', '剑川路', '东川路', '江川路', '西渡', '肖塘', '奉浦大道', '环城东路', '望园路', '金海湖', '奉贤新城', '金平路', '华宁路', '文井路', '闵行开发区', '港城路', '外高桥保税区北', '航津路', '外高桥保税区南', '洲海路', '五洲大道', '东靖路', '巨峰路', '五莲路', '博兴路', '金桥路', '云山路', '德平路', '北洋泾路', '民生路', '源深体育中心', '上海儿童医学中心', '临沂新村', '高科西路', '东明路', '高青路', '华夏西路', '上南路', '灵岩南路', '东方体育中心', '花木路', '芳华路', '锦绣路', '杨高南路', '云台路', '耀华路', '长清路', '后滩', '龙华中路', '肇嘉浜路', '昌平路', '长寿路', '岚皋路', '新村路', '大华三路', '行知路', '大场镇', '场中路', '上大路', '南陈路', '上海大学', '祁华路', '顾村公园', '刘行', '潘广路', '罗南新村', '美兰湖', '沈杜公路', '联航路', '江月路', '浦江镇', '芦恒路', '凌兆新村', '杨思', '成山路', '中华艺术宫', '陆家浜路', '老西门', '大世界', '曲阜路', '中兴路', '西藏北路', '曲阳路', '四平路', '鞍山新村', '江浦路', '黄兴路', '延吉中路', '黄兴公园', '翔殷路', '嫩江路', '市光路', '曹路', '民雷路', '顾唐路', '金海路', '金吉路', '金桥', '台儿庄路', '蓝天路', '芳甸路', '杨高中路', '商城路', '小南门', '马当路', '打浦桥', '嘉善路', '桂林路', '漕河泾开发区', '合川路', '星中路', '七宝', '中春路', '九亭', '泗泾', '佘山', '洞泾', '松江大学城', '松江新城', '松江体育中心', '醉白池', '松江南站', '新江湾城', '殷高东路', '三门路', '江湾体育场', '五角场', '国权路', '同济大学', '邮电新村', '四川北路', '天潼路', '豫园', '新天地', '上海图书馆', '交通大学', '宋园路', '伊犁路', '水城路', '龙溪路', '上海动物园', '虹桥1号航站楼', '龙柏新村', '紫藤路', '航中路', '康新公路', '秀沿路', '罗山路', '御桥', '三林东', '浦三路', '三林', '云锦路', '龙华', '龙耀路', '上海游泳馆', '隆德路', '枫桥路', '真如', '上海西站', '李子园', '祁连山路', '武威路', '桃浦新村', '南翔', '马陆', '嘉定新城', '白银路', '嘉定西', '嘉定北', '上海赛车场', '昌吉东路', '上海汽车城', '安亭', '兆丰路', '光明路', '花桥', '申江路', '金京路', '杨高北路', '东陆路', '复兴岛', '爱国路', '隆昌路', '宁国路', '江浦公园', '提篮桥', '国际客运中心', '桂林公园', '虹漕路', '虹梅路', '东兰路', '顾戴路', '虹莘路', '七莘路', '金运路', '金沙江西路', '丰庄', '祁连山南路', '真北路', '大渡河路', '武宁路', '江宁路', '自然博物馆', '淮海中路', '世博会博物馆', '世博大道', '华鹏路', '下南路', '北蔡', '陈春路', '莲溪路', '华夏中路', '中科路', '学林路', '张江路', '周浦东', '鹤沙航城', '航头东', '新场', '野生动物园', '惠南', '惠南东', '书院', '临港大道', '滴水湖', '褚光路', '蟠龙路', '徐盈路', '徐泾北城', '嘉松中路', '赵巷', '汇金路', '青浦新城', '漕盈路', '淀山湖大道', '朱家角', '东方绿舟', '沈度公路', '三鲁公路', '闵瑞路', '浦航路', '东城一路', '汇臻路']\n",
      "[46658, 45746, 44073, 43059, 39115, 45701, 36668, 35274, 36644, 35148, 34142, 32806, 33296, 32750, 31792, 31527, 30984, 30898, 28828, 28625, 26766, 28814, 28172, 29674, 28560, 26139, 25165, 24739, 11523, 14644, 13989, 24107, 22058, 22882, 24143, 27877, 27005, 28293, 29987, 32703, 35399, 35149, 36309, 38660, 40242, 44091, 47138, 52079, 53743, 56400, 57522, 56375, 56227, 58719, 63964, 64723, 67106, 32062, 31150, 29897, 27568, 24925, 24852, 27173, 28077, 29897, 31196, 34381, 35235, 36414, 36175, 37918, 39516, 40727, 42205, 43864, 45405, 46978, 49745, 51181, 52984, 52980, 52325, 35482, 36241, 36392, 36777, 36049, 37685, 38639, 37747, 35565, 34058, 33335, 32123, 31290, 30092, 26933, 27285, 29575, 31398, 33738, 35052, 42377, 40396, 45566, 48027, 49221, 47573, 48988, 50091, 33768, 35705, 36515, 36656, 58103, 54144, 52614, 50931, 48599, 48261, 48228, 44895, 43951, 43006, 43130, 41072, 40110, 38828, 37928, 37741, 39011, 38598, 38150, 38662, 41307, 38342, 37556, 36146, 36900, 44359, 42732, 40272, 38852, 36894, 36191, 35531, 35572, 31404, 27731, 29450, 30781, 32248, 31386, 32419, 31820, 31590, 32791, 35548, 35638, 36867, 35852, 41666, 39168, 39639, 43103, 43184, 42280, 40909, 39785, 38231, 35664, 34699, 37431, 37189, 36989, 33619, 32406, 31194, 32609, 33650, 33702, 36595, 37619, 38684, 38748, 42740, 42596, 42702, 46169, 43844, 44720, 64345, 62902, 61840, 61241, 47371, 46194, 44440, 41893, 39765, 38717, 35450, 34197, 32358, 32957, 28760, 26410, 24157, 23235, 21803, 17850, 17399, 15496, 12626, 9802, 12000, 15294, 17871, 31235, 21717, 24737, 43649, 43115, 43630, 42529, 40495, 39440, 39499, 36621, 34838, 33362, 32235, 31440, 28127, 28004, 23866, 23046, 22269, 23389, 21047, 19791, 21709, 20720, 18186, 47441, 47981, 44749, 43442, 38146, 39748, 38348, 32496, 31697, 32759, 29150, 28897, 28599, 30358, 29241, 28253, 28868, 32711, 31488, 24447, 26316, 26688, 31178, 32691, 35760, 32226, 21223, 19092, 17134, 23927, 25000, 26088, 53816, 48379, 50568, 49014, 47664, 45730, 43798, 42658, 37629, 35871, 35033, 27911, 26270, 24531, 24198, 25557, 24399, 20844, 18658, 19933, 22272, 26273, 23619, 24264, 28682, 31332, 31879, 30377, 33594, 37420, 43173, 43956, 44715, 44631, 44203, 48933, 48655, 49875, 51361, 56355, 54774, 55163, 58802, 68841, 73599, 78755, 88190, 94557, 97164, 10985, 9812, 7249, 6258, 3029, 1, 5217, 7892, 10754, 13967, 24930, 27732, 42280, 44995, 53390, 53887, 56148, 57912]\n",
      "344\n",
      "344\n",
      "1\n",
      "331\n",
      "赵巷\n",
      "距上海地铁17号线赵巷地铁站1米\n"
     ]
    },
    {
     "data": {
      "text/plain": [
       "'距上海地铁17号线赵巷地铁站1米'"
      ]
     },
     "execution_count": 8,
     "metadata": {},
     "output_type": "execute_result"
    }
   ],
   "source": [
    "import stations_information\n",
    "\n",
    "def get_traffic(coordinate):\n",
    "    station_coordinate = stations_information.station_coordinate\n",
    "#     coordinate = '116.310905,39.992806'\n",
    "    station_list = [station for station in station_coordinate.keys()]\n",
    "    # len(station_list)\n",
    "    station_coordinate_list = []\n",
    "    distance_list = []\n",
    "    for (i, station) in enumerate(station_list):\n",
    "        station_coordinate_list.append(station_coordinate[station])\n",
    "        if (i+1) % 100 == 0 or i+1 == len(station_list):\n",
    "            distance_list += get_distance(station_coordinate_list, coordinate)\n",
    "            print(len(station_coordinate_list))\n",
    "            station_coordinate_list = []\n",
    "\n",
    "    if distance_list.count(None) == len(distance_list):\n",
    "        return None\n",
    "    else:\n",
    "        min_distance = min(distance_list)\n",
    "        min_index = distance_list.index(min_distance)\n",
    "        min_station = station_list[min_index]\n",
    "\n",
    "        if min_station != None and min_distance <= 2000:\n",
    "            res = '距' + stations_information.station_subway[min_station] + min_station + '地铁站' + str(min_distance) + '米'\n",
    "        else:\n",
    "            res = None\n",
    "\n",
    "        print(station_list)\n",
    "        print(distance_list)\n",
    "        print(len(station_list))\n",
    "        print(len(distance_list))\n",
    "        print(min_distance)\n",
    "        print(min_index)\n",
    "        print(min_station)\n",
    "        print(res)\n",
    "        return res\n",
    "        \n",
    "\n",
    "coordinate = '121.192279,31.161247'\n",
    "get_traffic(coordinate)\n",
    "    "
   ]
  },
  {
   "cell_type": "code",
   "execution_count": 74,
   "metadata": {},
   "outputs": [],
   "source": [
    "from pymongo import MongoClient, UpdateOne\n",
    "import multiprocessing\n",
    "import settings\n",
    "\n",
    "def worker(st, num):\n",
    "    MONGO_COLLECTION_INPUT = 'house'\n",
    "    MONGO_COLLECTION_OUTPUT = 'house'\n",
    "    client = MongoClient(settings.MONGO_URI)\n",
    "    database = client['test']\n",
    "    collection_in = database[MONGO_COLLECTION_INPUT]\n",
    "    collection_out = database[MONGO_COLLECTION_OUTPUT]\n",
    "    # 建立索引\n",
    "#     v = {\n",
    "#         'raw_key': {'name': 'raw_key', 'unique': True},\n",
    "#         'url': {'name': 'url'},\n",
    "#         'domain': {'name': 'domain'},\n",
    "#         'price': {'name':'price'},\n",
    "#         'size': {'name':'size'}\n",
    "#         }\n",
    "#     for key, kwargs in v.items():\n",
    "#         collection_out.create_index(key, background=True, **kwargs)\n",
    "        \n",
    "    requests = []\n",
    "    cur = collection_in.find().skip(st).limit(num)\n",
    "    for item in cur:\n",
    "#         print(item['raw_key'], item['traffic'], item['address'])\n",
    "        address = item['address']['community'] + item['address']['detail']\n",
    "        item['address']['coordinate'] = get_coordinate(address, item['address']['city'])\n",
    "        if not item['traffic'] or item['traffic'].find('米')==-1:\n",
    "            item['traffic'] = get_traffic(item['address']['coordinate'])\n",
    "            \n",
    "#         print(item['raw_key'], item['traffic'], item['address'])\n",
    "        requests.append(UpdateOne({'raw_key': item['raw_key']}, {'$set': dict(item)}, upsert=True))\n",
    "        if(len(requests) >= 1000):\n",
    "            collection_out.bulk_write(requests)\n",
    "            requests = []\n",
    "    # 批处理\n",
    "    collection_out.bulk_write(requests)\n",
    "    print(\"[%s-%s) is ok\" % (st, st+num))\n",
    "        "
   ]
  },
  {
   "cell_type": "code",
   "execution_count": 83,
   "metadata": {},
   "outputs": [
    {
     "name": "stdout",
     "output_type": "stream",
     "text": [
      "[8-10) is ok\n",
      "[6-8) is ok\n",
      "[0-2) is ok\n",
      "[10-12) is ok\n",
      "[14-16) is ok\n",
      "[12-14) is ok\n",
      "[4-6) is ok\n",
      "[2-4) is ok\n"
     ]
    }
   ],
   "source": [
    "import math\n",
    "if __name__ == '__main__':\n",
    "    st = 0\n",
    "    ed = 100\n",
    "#     worker(st,ed)\n",
    "    process_num = 10\n",
    "    x = math.ceil((ed-st)/process_num)\n",
    "    for i in range(0, process_num):\n",
    "        if(st+x*i > ed):\n",
    "            break\n",
    "        multiprocessing.Process(target=worker, args=(st+x*i, x)).start()"
   ]
  }
 ],
 "metadata": {
  "kernelspec": {
   "display_name": "Python 3",
   "language": "python",
   "name": "python3"
  },
  "language_info": {
   "codemirror_mode": {
    "name": "ipython",
    "version": 3
   },
   "file_extension": ".py",
   "mimetype": "text/x-python",
   "name": "python",
   "nbconvert_exporter": "python",
   "pygments_lexer": "ipython3",
   "version": "3.6.8"
  }
 },
 "nbformat": 4,
 "nbformat_minor": 2
}
