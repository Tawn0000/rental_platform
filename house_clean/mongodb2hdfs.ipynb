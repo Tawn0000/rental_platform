{
 "cells": [
  {
   "cell_type": "markdown",
   "metadata": {},
   "source": [
    "## 数据转移MongoDB->HDFS"
   ]
  },
  {
   "cell_type": "code",
   "execution_count": 1,
   "metadata": {},
   "outputs": [],
   "source": [
    "# 版本信息\n",
    "# Hadoop：3.2.1_1\n",
    "# Spark：2.4.5\n",
    "# Scala：2.11.12\n",
    "# Java：1.8.0_241\n",
    "# Mongo：4.2.3\n",
    "# mongo-java-driver-3.12.2.jar\n",
    "# mongo-spark-connector_2.11-2.4.1.jar\n",
    "\n",
    "import settings\n",
    "import datetime\n",
    "\n",
    "MONGO_URI = settings.MONGO_URI + '/test.house' # 数据库表名\n",
    "\n",
    "now_time=datetime.datetime.now()\n",
    "pre_time=(now_time + datetime.timedelta(days=-1)).strftime(\"%Y-%m-%d %H:%M:%S\") #获取前一天\n",
    "\n",
    "df = spark.read.format(\"com.mongodb.spark.sql.DefaultSource\").option(\"uri\",MONGO_URI).load()\n"
   ]
  },
  {
   "cell_type": "code",
   "execution_count": 2,
   "metadata": {},
   "outputs": [
    {
     "data": {
      "text/plain": [
       "73356"
      ]
     },
     "execution_count": 2,
     "metadata": {},
     "output_type": "execute_result"
    }
   ],
   "source": [
    "df.count()"
   ]
  },
  {
   "cell_type": "code",
   "execution_count": 3,
   "metadata": {},
   "outputs": [],
   "source": [
    "df.repartition(40).write.parquet(\"shanghai.house.parquet\")"
   ]
  },
  {
   "cell_type": "code",
   "execution_count": 35,
   "metadata": {},
   "outputs": [
    {
     "data": {
      "text/plain": [
       "'df40dd8c4bc1282bc20fd17c1779cc24'"
      ]
     },
     "execution_count": 35,
     "metadata": {},
     "output_type": "execute_result"
    }
   ],
   "source": [
    "import hashlib\n",
    "def _hash(data):\n",
    "    md5 = hashlib.md5() # 应用MD5算法\n",
    "    md5.update(data.encode('utf-8'))\n",
    "    return md5.hexdigest()\n",
    "_hash('ralx')"
   ]
  },
  {
   "cell_type": "code",
   "execution_count": null,
   "metadata": {},
   "outputs": [],
   "source": [
    "df.take(1)"
   ]
  }
 ],
 "metadata": {
  "kernelspec": {
   "display_name": "Python 3",
   "language": "python",
   "name": "python3"
  },
  "language_info": {
   "codemirror_mode": {
    "name": "ipython",
    "version": 3
   },
   "file_extension": ".py",
   "mimetype": "text/x-python",
   "name": "python",
   "nbconvert_exporter": "python",
   "pygments_lexer": "ipython3",
   "version": "3.6.8"
  }
 },
 "nbformat": 4,
 "nbformat_minor": 2
}
